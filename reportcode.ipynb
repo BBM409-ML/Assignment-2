{
 "cells": [
  {
   "cell_type": "markdown",
   "id": "0ad7d919",
   "metadata": {},
   "source": [
    "# ASSIGNMENT 2: DECISION TREE"
   ]
  },
  {
   "cell_type": "markdown",
   "id": "d5cbefaf",
   "metadata": {},
   "source": [
    "Decision Tree algorithm belongs to the family of supervised learning algorithms. Unlike other supervised learning algorithms, the decision tree algorithm can be used for solving regression and classification problems. The goal of using a Decision Tree is to create a training model that can use to predict the class or value of the target variable by learning simple decision rules inferred from training data. Decision trees are machine learning algorithms that progressively divide data sets into smaller data groups based on a descriptive feature, until they reach sets that are small enough to be described by some label. It is a flowchart-like structure in which each internal node represents a test on a feature, each leaf node represents a class label and branches represent conjunctions of features that lead to those class labels. The paths from root to leaf represent classification rules."
   ]
  },
  {
   "cell_type": "markdown",
   "id": "2b0bdcaf",
   "metadata": {},
   "source": [
    "In this assignment, it is asked to implement decision tree algorithm from the scratch and to apply this algorithm for given diabetes risk prediction dataset. Our aim is to predict whether a patient is a potential diabetic or not using the decision tree model. This report shows steps we have followed, code implementations and analysis of results for decision tree algorithm."
   ]
  },
  {
   "cell_type": "markdown",
   "id": "5a16f3a6-a731-45e7-a749-f8df37c248e1",
   "metadata": {},
   "source": [
    "## Part 1: Diabetes Risk Prediction"
   ]
  },
  {
   "cell_type": "code",
   "execution_count": 1,
   "id": "5659d0fa",
   "metadata": {},
   "outputs": [],
   "source": [
    "#import modules\n",
    "\n",
    "from math import log\n",
    "import time\n",
    "from sklearn.preprocessing import LabelEncoder\n",
    "from sklearn.metrics import confusion_matrix\n",
    "import numpy as np\n",
    "import pandas\n",
    "import pandas as pd\n",
    "from scipy.linalg.decomp_schur import eps\n",
    "from sklearn.model_selection import KFold, train_test_split"
   ]
  },
  {
   "cell_type": "code",
   "execution_count": null,
   "id": "49269aa5-fdc5-4431-8f6e-bc4bc0e5d210",
   "metadata": {},
   "outputs": [],
   "source": [
    "def part1():\n",
    "    data = pd.read_csv('diabetes_data_upload.csv')\n",
    "    # discretization for continuous variable Age, split Age values to 5 different ranges -> make it discrete\n",
    "    data['age_discrete'] = pd.cut(data['Age'], 5, labels=['Low', 'Below_average', 'Average', 'Above_Average', 'High'])\n",
    "    # write discretized age values to Age column\n",
    "    data['Age'] = data['age_discrete']\n",
    "    # drop unnecessary column\n",
    "    data = data.drop(columns=\"age_discrete\")\n",
    "    return k_fold_cross_validation(data)\n",
    "    "
   ]
  },
  {
   "cell_type": "markdown",
   "id": "32856fed-9911-4a1c-9961-c556108c72e0",
   "metadata": {},
   "source": [
    "Before starting to creating decision tree, it is required to discretize Age column of the given data because Age values are given as continues values in the range 16-90. The distribution of Age can be seen below."
   ]
  },
  {
   "cell_type": "code",
   "execution_count": 19,
   "id": "c628334e-a73f-4416-bcf5-c6f6e4241cc5",
   "metadata": {},
   "outputs": [
    {
     "data": {
      "text/plain": [
       "<AxesSubplot:xlabel='Age', ylabel='Density'>"
      ]
     },
     "execution_count": 19,
     "metadata": {},
     "output_type": "execute_result"
    },
    {
     "data": {
      "image/png": "[encoded data removed]",
      "text/plain": [
       "<Figure size 432x288 with 1 Axes>"
      ]
     },
     "metadata": {
      "needs_background": "light"
     },
     "output_type": "display_data"
    }
   ],
   "source": [
    "import seaborn as sns\n",
    "import pandas as pd\n",
    "\n",
    "data = pd.read_csv('diabetes_data_upload.csv')\n",
    "sns.histplot(data.Age, color=\"green\", kde=True, stat=\"density\", linewidth=0)"
   ]
  },
  {
   "cell_type": "markdown",
   "id": "15459a60-b276-462a-864b-ea2eebcfa446",
   "metadata": {},
   "source": [
    "The technique of transforming continuous data into discrete buckets by grouping it is known as data discretization. Discretization is also recognized for making data easier to maintain. When a model is trained using discrete data, it is faster and more effective than when it is trained with continuous data. Despite the fact that continuous-valued data includes more information, large volumes of data can cause the model to slow down."
   ]
  },
  {
   "cell_type": "markdown",
   "id": "c53d03fd-f37d-47e4-b18e-abdfd0889bf6",
   "metadata": {},
   "source": [
    "Since Age column has continuos values, it is needed to apply discreatization proces with multiway split. We defined 5 intervals which are Low, Below Average, Average, Above Average, High. After that, we changed continuous Age column values with discrete values. Discretization process made our process easier to trace and understand with continuous data divided and stored into meaningful categories or groups. Moreover, due to unlimited degrees of freedom, continuous features have a lower likelihood of correlating with the goal variable and may have a complex non-linear relationship. As a result, interpreting such a function may be more difficult. Groups corresponding to the target can be interpreted after discretizing a variable. Thus, discretization is a cruicial step in this algorithm.\n"
   ]
  },
  {
   "cell_type": "markdown",
   "id": "76e0428d",
   "metadata": {},
   "source": [
    "To create a tree, we need to have a root node first and we know that nodes are features. For each branch, we must determine the attribute that best classifies the training data and equate this attribute to the root of the tree. In ID3, the information gain method is used to determine the root node."
   ]
  },
  {
   "cell_type": "code",
   "execution_count": 2,
   "id": "f8cac844",
   "metadata": {},
   "outputs": [],
   "source": [
    "def find_total_entropy(dataframe):\n",
    "    # take target values = Class[Positive, Negative]\n",
    "    Class = dataframe.keys()[-1]\n",
    "    target_values = dataframe[Class].unique()\n",
    "    total_entropy = 0\n",
    "\n",
    "    # for each target value like Positive, Negative calculate entropy, add to total\n",
    "    for value in target_values:\n",
    "        proportion = dataframe[Class].value_counts()[value] / len(dataframe[Class])\n",
    "        total_entropy += -proportion * np.log2(proportion)\n",
    "\n",
    "    return total_entropy"
   ]
  },
  {
   "cell_type": "markdown",
   "id": "168b2965-8085-41ba-8e38-9f7a4fe7c9b2",
   "metadata": {},
   "source": [
    "This function calculates the total entropy for target attributes Positive and Negative in target attribute Class."
   ]
  },
  {
   "cell_type": "code",
   "execution_count": 3,
   "id": "808aabcc",
   "metadata": {},
   "outputs": [],
   "source": [
    "def find_entropy_attribute(dataframe, column):\n",
    "    # target value\n",
    "    Class = dataframe.keys()[-1]\n",
    "    # get target (Class) values -> Positive, Negative\n",
    "    target_variables = dataframe[Class].unique()\n",
    "    # get values for current column\n",
    "    column_variables = dataframe[column].unique()\n",
    "\n",
    "    column_total_entropy = 0\n",
    "    for variable in column_variables:\n",
    "        entropy = 0\n",
    "        for target_variable in target_variables:\n",
    "            # find number of columns where target variable = variable and current column variable = variable\n",
    "            # ex. Class = Positive and Age = Above Average for the current training set\n",
    "            numerator = len(dataframe[column][dataframe[column] == variable][dataframe[Class] == target_variable])\n",
    "            # find number of columns where target variable = variable\n",
    "            denominator = len(dataframe[column][dataframe[column] == variable])\n",
    "            # find the proportion\n",
    "            proportion = numerator / (denominator + eps)\n",
    "            # get entropy for current values\n",
    "            entropy += -proportion * log(proportion + eps)\n",
    "        fraction2 = denominator / len(dataframe)\n",
    "        # add to total entropy\n",
    "        column_total_entropy += -fraction2 * entropy\n",
    "    return abs(column_total_entropy)"
   ]
  },
  {
   "cell_type": "code",
   "execution_count": 4,
   "id": "96803522",
   "metadata": {},
   "outputs": [],
   "source": [
    "def find_max_info_gain(df):\n",
    "    information_gains = []\n",
    "    for key in df.keys()[:-1]:  # do not include target variable\n",
    "        # Gain(S,A) = Entropy(S) - sum(|S column|/|S|) Entropy(S column)\n",
    "        information_gains.append(find_total_entropy(df) - find_entropy_attribute(df, key))\n",
    "    # return max info gain = most effective attribute in classifying training data\n",
    "    return df.keys()[:-1][np.argmax(information_gains)], max(information_gains)"
   ]
  },
  {
   "cell_type": "markdown",
   "id": "dde05f3e",
   "metadata": {},
   "source": [
    "The order of qualities in the nodes of a decision tree can be determined via information gain. We can use information gain to see how well the node splitting in a decision tree is. As we build the tree, we calculate information gains and select the attribute with the greatest information gaim as the next node. In order to define information gain precisely, we begin by defining a measure commonly used in information theory, called entropy that characterizes the collection of examples. Entropy is a measure of disorder or uncertainty and the goal of machine learning models in general is to reduce uncertainty."
   ]
  },
  {
   "cell_type": "code",
   "execution_count": 5,
   "id": "a5be4a32",
   "metadata": {},
   "outputs": [],
   "source": [
    "# this function gets sub dataframe including columns where node = given value\n",
    "def get_sub_dataframe(df, node, value):\n",
    "    return df[df[node] == value].reset_index(drop=True)"
   ]
  },
  {
   "cell_type": "code",
   "execution_count": 6,
   "id": "1afcefb3",
   "metadata": {},
   "outputs": [],
   "source": [
    "def build_tree(df, tree=None):\n",
    "    global count\n",
    "    # take target value = Class[Positive, Negative]\n",
    "    Class = df.keys()[-1]\n",
    "    # in order to decide next node, find attribute with max information gain\n",
    "    node, info_gain = find_max_info_gain(df)\n",
    "    # get distinct values for that attribute like Positive, Negative\n",
    "    distinct_values = df[node].unique()\n",
    "\n",
    "    # create empty dictionary for tree representation\n",
    "    if tree is None:\n",
    "        count += 1\n",
    "        tree = {}\n",
    "        tree[node] = {}\n",
    "        tree[node][count] = info_gain\n",
    "\n",
    "    for value in distinct_values:\n",
    "        sub_data_frame = get_sub_dataframe(df, node, value)\n",
    "        if sub_data_frame.empty:\n",
    "            continue\n",
    "        clValue, counts = np.unique(sub_data_frame[Class], return_counts=True)\n",
    "        if len(counts) == 1:  # check for purity\n",
    "            tree[node][value] = clValue[0]\n",
    "            df = data_train_2[data_train_2[node] == value].reset_index(drop=True)\n",
    "        else:\n",
    "            tree[node][value] = build_tree(sub_data_frame)\n",
    "    return tree"
   ]
  },
  {
   "cell_type": "markdown",
   "id": "c93e3005",
   "metadata": {},
   "source": [
    "In the above methods; firstly, we computed the entropy for data-set. Then, we calculated the entropy, the average information entropy, and the information gain for for every attribute/feature. We chose the attribute with the highest information gain as the root node. We repeated the same thing creating subtrees for each different value the root node had until we got the tree. We kept the tree as the form of nested dictionaries. Each node has its children, information gain and a unique node number inside its dictionary."
   ]
  },
  {
   "cell_type": "code",
   "execution_count": 7,
   "id": "3246115a",
   "metadata": {},
   "outputs": [],
   "source": [
    "def visualize(root, indent=0):\n",
    "    if type(root) == dict:\n",
    "        for k, v in root.items():\n",
    "            if not isinstance(k, str):\n",
    "                continue\n",
    "            print(\" \" * indent + f\"{k}:\")\n",
    "            visualize(v, indent + 2)\n",
    "    else:\n",
    "        print(\" \" * indent + repr(root))"
   ]
  },
  {
   "cell_type": "markdown",
   "id": "4381bab8",
   "metadata": {},
   "source": [
    "Visualize method allows us to easily see the tree hierarchy we created."
   ]
  },
  {
   "cell_type": "code",
   "execution_count": 8,
   "id": "598024ec",
   "metadata": {},
   "outputs": [],
   "source": [
    "def predict(data, tree, test_sample):\n",
    "    if not isinstance(tree, dict):  # if it is leaf node\n",
    "        return tree  # return the value\n",
    "    else:\n",
    "        root_node = next(iter(tree))  # getting first key/feature name of the dictionary\n",
    "        feature_value = test_sample[root_node]  # value of the feature\n",
    "        sub_data_frame = get_sub_dataframe(data, root_node, feature_value)\n",
    "        if feature_value in tree[root_node]:  # checking the feature value in current tree node\n",
    "            return predict(sub_data_frame, tree[root_node][feature_value], test_sample)  # goto next feature\n",
    "        else:\n",
    "            clValue, counts = np.unique(sub_data_frame[\"Class\"], return_counts=True)\n",
    "            result = np.where(counts == np.amax(counts))\n",
    "            return clValue[result[0]][0]"
   ]
  },
  {
   "cell_type": "markdown",
   "id": "b5a9a3a1",
   "metadata": {},
   "source": [
    "In the predict method, it is estimated whether the patient has diabetes (negative or positive) using the tree we created with the build_tree method. This method, starting from the root node, looks at the value of the feature that it evaluates and goes to the child node depending on this value. This process is repeated until we reach a leaf node. When this happens, the predicted category would be the mode of the categories on that leaf node. "
   ]
  },
  {
   "cell_type": "code",
   "execution_count": 9,
   "id": "24ed0438",
   "metadata": {},
   "outputs": [],
   "source": [
    "def evaluate(data, tree, test_data, label):\n",
    "    predicted = []\n",
    "    for index, row in test_data.iterrows():  # for each row in the dataset\n",
    "        predicted.append(predict(data, tree, test_data.iloc[index]))\n",
    "\n",
    "    le = LabelEncoder()\n",
    "    predicted = le.fit_transform(predicted)\n",
    "    test_data[label] = le.fit_transform(test_data[label])\n",
    "\n",
    "    tn, fp, fn, tp = confusion_matrix(test_data[label], predicted, labels=[0, 1]).ravel()\n",
    "    accuracy = (tp + tn) / (tp + tn + fp + fn)  # calculating accuracy\n",
    "    precision = (tp) / (tp + fp)  # calculating precision\n",
    "    recall = (tp) / (tp + fn)  # calculating recall\n",
    "    f1 = 2 * (recall * precision) / (recall + precision)  # calculating f1 score\n",
    "    print(\"accuracy: \" + str(accuracy))\n",
    "    print(\"precision: \" + str(precision))\n",
    "    print(\"recall: \" + str(recall))\n",
    "    print(\"f1 \" + str(f1))"
   ]
  },
  {
   "cell_type": "code",
   "execution_count": 10,
   "id": "f1a71349",
   "metadata": {},
   "outputs": [],
   "source": [
    "def accuracy_calculate(data, tree, test_data, label):\n",
    "    predicted = []\n",
    "    for index, row in test_data.iterrows():  # for each row in the dataset\n",
    "        predicted.append(predict(data, tree, test_data.iloc[index]))\n",
    "\n",
    "    le = LabelEncoder()\n",
    "    predicted = le.fit_transform(predicted)\n",
    "    test_data[label] = le.fit_transform(test_data[label])\n",
    "\n",
    "    tn, fp, fn, tp = confusion_matrix(test_data[label], predicted, labels=[0, 1]).ravel()\n",
    "    accuracy = (tp + tn) / (tp + tn + fp + fn)  # calculating accuracy\n",
    "    return accuracy"
   ]
  },
  {
   "cell_type": "markdown",
   "id": "90c77420",
   "metadata": {},
   "source": [
    "This method evaluations performance metrics of a classification-based our machine learning model. It displays our decision tree model’s precision, recall, F1 score and accuracy. It provides a better understanding of the overall performance of our trained model."
   ]
  },
  {
   "cell_type": "code",
   "execution_count": 11,
   "id": "9a9b15f1",
   "metadata": {},
   "outputs": [],
   "source": [
    "def k_fold_cross_validation(data):\n",
    "    global data_train_2\n",
    "    global count\n",
    "    i = 1\n",
    "    # define sklearn KFold\n",
    "    kf = KFold(n_splits=5, shuffle=True)\n",
    "    # split data frame to 5\n",
    "    kf.split(data)\n",
    "    trees = []\n",
    "    # loop over 5 different test & training data, call function\n",
    "    print(\"-------------------- PART 1 --------------------\")\n",
    "    for train_index, test_index in kf.split(data):\n",
    "        start = time.time()\n",
    "        data_train, data_test = data.iloc[train_index].reset_index(drop=True), \\\n",
    "                                data.iloc[test_index].reset_index(drop=True)\n",
    "        print()\n",
    "        print(\"------------------------------------------------\")\n",
    "        print(\"Fold-\"+str(i))\n",
    "        i += 1\n",
    "        count = 0\n",
    "        data_train_2 = data_train\n",
    "        tree = build_tree(data_train)\n",
    "        trees.append(tree)\n",
    "        evaluate(data, tree, data_test, \"Class\")\n",
    "        end = time.time()\n",
    "        print(f\"Runtime of the program is {end - start}\")\n",
    "    return trees"
   ]
  },
  {
   "cell_type": "markdown",
   "id": "edd78f7a",
   "metadata": {},
   "source": [
    "K-fold cross validation is where a given data set is split into a K number of folds where each fold is used as a testing set at some point. In our assignment, we take the scenario of 5-Fold cross validation(K=5). Here, the data set is splitted into 5 folds. In each iteration, a fold is used to test the model and the rest are used to train the model (to build the tree)."
   ]
  },
  {
   "cell_type": "code",
   "execution_count": 26,
   "id": "d48acc36",
   "metadata": {},
   "outputs": [
    {
     "name": "stdout",
     "output_type": "stream",
     "text": [
      "-------------------- PART 1 --------------------\n",
      "\n",
      "------------------------------------------------\n",
      "Fold-1\n",
      "accuracy: 0.9519230769230769\n",
      "precision: 0.9464285714285714\n",
      "recall: 0.9636363636363636\n",
      "f1 0.9549549549549549\n",
      "Runtime of the program is 0.9244682788848877\n",
      "\n",
      "------------------------------------------------\n",
      "Fold-2\n",
      "accuracy: 0.9326923076923077\n",
      "precision: 0.9428571428571428\n",
      "recall: 0.9565217391304348\n",
      "f1 0.9496402877697843\n",
      "Runtime of the program is 0.9575800895690918\n",
      "\n",
      "------------------------------------------------\n",
      "Fold-3\n",
      "accuracy: 0.9519230769230769\n",
      "precision: 0.9384615384615385\n",
      "recall: 0.9838709677419355\n",
      "f1 0.9606299212598426\n",
      "Runtime of the program is 0.8984682559967041\n",
      "\n",
      "------------------------------------------------\n",
      "Fold-4\n",
      "accuracy: 0.9711538461538461\n",
      "precision: 0.9558823529411765\n",
      "recall: 1.0\n",
      "f1 0.9774436090225563\n",
      "Runtime of the program is 0.9363248348236084\n",
      "\n",
      "------------------------------------------------\n",
      "Fold-5\n",
      "accuracy: 0.9230769230769231\n",
      "precision: 0.9178082191780822\n",
      "recall: 0.9710144927536232\n",
      "f1 0.943661971830986\n",
      "Runtime of the program is 0.6026091575622559\n"
     ]
    }
   ],
   "source": [
    "count = 0\n",
    "data_train_2 = pandas.DataFrame\n",
    "trees = part1()"
   ]
  },
  {
   "cell_type": "markdown",
   "id": "3e933954-d4db-40ea-8ff6-cb766bcc325c",
   "metadata": {},
   "source": [
    "For the results illustrated above, the best accuracy, precision, recall and f1 scores exits in Fold-4. Tree created for Fold-4 can be seen below."
   ]
  },
  {
   "cell_type": "code",
   "execution_count": 27,
   "id": "071b641f",
   "metadata": {
    "scrolled": true,
    "tags": []
   },
   "outputs": [
    {
     "name": "stdout",
     "output_type": "stream",
     "text": [
      "Polyuria:\n",
      "  No:\n",
      "    Gender:\n",
      "      Male:\n",
      "        Irritability:\n",
      "          No:\n",
      "            Polydipsia:\n",
      "              Yes:\n",
      "                Itching:\n",
      "                  Yes:\n",
      "                    Alopecia:\n",
      "                      Yes:\n",
      "                        Obesity:\n",
      "                          Yes:\n",
      "                            'Positive'\n",
      "                      No:\n",
      "                        'Negative'\n",
      "                  No:\n",
      "                    'Positive'\n",
      "              No:\n",
      "                Age:\n",
      "                  Average:\n",
      "                    partial paresis:\n",
      "                      Yes:\n",
      "                        muscle stiffness:\n",
      "                          No:\n",
      "                            'Positive'\n",
      "                      No:\n",
      "                        'Negative'\n",
      "                  Below_average:\n",
      "                    delayed healing:\n",
      "                      Yes:\n",
      "                        Genital thrush:\n",
      "                          Yes:\n",
      "                            Polyphagia:\n",
      "                              Yes:\n",
      "                                'Positive'\n",
      "                          No:\n",
      "                            'Positive'\n",
      "                      No:\n",
      "                        'Negative'\n",
      "                  Above_Average:\n",
      "                    partial paresis:\n",
      "                      Yes:\n",
      "                        'Positive'\n",
      "                  Low:\n",
      "                    'Negative'\n",
      "          Yes:\n",
      "            Polydipsia:\n",
      "              Yes:\n",
      "                'Positive'\n",
      "      Female:\n",
      "        Alopecia:\n",
      "          No:\n",
      "            visual blurring:\n",
      "              Yes:\n",
      "                'Positive'\n",
      "          Yes:\n",
      "            Age:\n",
      "              Low:\n",
      "                'Positive'\n",
      "  Yes:\n",
      "    Polydipsia:\n",
      "      No:\n",
      "        Itching:\n",
      "          Yes:\n",
      "            delayed healing:\n",
      "              Yes:\n",
      "                Alopecia:\n",
      "                  Yes:\n",
      "                    Gender:\n",
      "                      Male:\n",
      "                        Age:\n",
      "                          Below_average:\n",
      "                            sudden weight loss:\n",
      "                              No:\n",
      "                                'Positive'\n",
      "                          Above_Average:\n",
      "                            'Negative'\n",
      "                      Female:\n",
      "                        'Positive'\n",
      "                  No:\n",
      "                    'Positive'\n",
      "              No:\n",
      "                'Positive'\n",
      "          No:\n",
      "            'Positive'\n",
      "      Yes:\n",
      "        'Positive'\n"
     ]
    }
   ],
   "source": [
    "# best accuracy\n",
    "visualize(trees[3])"
   ]
  },
  {
   "cell_type": "markdown",
   "id": "a620f5bd-1a49-4f28-a3ae-a8cd8d9c9226",
   "metadata": {},
   "source": [
    "Rules of the best performing decision tree model (Fold-4 decision tree):\n",
    "\n",
    "(Polyuria=No) and (Gender=Male) and (Irritability=No) and (Polydipsia=Yes) and (Itching=Yes) and (Alopecia=Yes) and (Obesity=Yes) = Positive or\n",
    "\n",
    "(Polyuria=No) and (Gender=Male) and (Irritability=No) and (Polydipsia=Yes) and (Itching=Yes) and (Alopecia=No) = Negative or \n",
    "\n",
    "(Polyuria=No) and (Gender=Male) and (Irritability=No) and (Polydipsia=Yes) and (Itching=No) = Positive or \n",
    "\n",
    "(Polyuria=No) and (Gender=Male) and (Irritability=No) and (Polydipsia=No) and (Age=Average) and (partial paresis=Yes) and (muscle stiffness=No) = Positive or\n",
    "\n",
    "(Polyuria=No) and (Gender=Male) and (Irritability=No) and (Polydipsia=No) and (Age=Average) and (partial paresis=No) = Negative or \n",
    "\n",
    "(Polyuria=No) and (Gender=Male) and (Irritability=No) and (Polydipsia=No) and (Age=Below Average) and (delayed healing=Yes) and (Genital thrush=Yes) and (Polyphagia=Yes) = Positive or\n",
    "\n",
    "(Polyuria=No) and (Gender=Male) and (Irritability=No) and (Polydipsia=No) and (Age=Below Average) and (delayed healing=Yes) and (Genital thrush=No) = Positive or \n",
    "\n",
    "(Polyuria=No) and (Gender=Male) and (Irritability=No) and (Polydipsia=No) and (Age=Below Average) and (delayed healing=No) = Negative or \n",
    "\n",
    "(Polyuria=No) and (Gender=Male) and (Irritability=No) and (Polydipsia=No) and (Age=Above Average) and (partial paresis=Yes) = Positive or \n",
    "\n",
    "(Polyuria=No) and (Gender=Male) and (Irritability=Yes) and (Polydipsia=Yes) = Positive or \n",
    "\n",
    "(Polyuria=No) and (Gender=Female) and (Alopecia=No) and (visual blurring=Yes) = Positive or \n",
    "\n",
    "(Polyuria=No) and (Gender=Female) and (Alopecia=Yes) and (Age=Low) = Positive or \n",
    "\n",
    "(Polyuria=Yes) and (Polydipsia=No) and (Itching=Yes) and (delayed healing=Yes) and (Alopecia=Yes) and (Gender=Male) and (Age=Below Average) and (sudden weight loss=No) = Positive or \n",
    "\n",
    "(Polyuria=Yes) and (Polydipsia=No) and (Itching=Yes) and (delayed healing=Yes) and (Alopecia=Yes) and (Gender=Male) and (Age=Above Average) = Negative or \n",
    "\n",
    "(Polyuria=Yes) and (Polydipsia=No) and (Itching=Yes) and (delayed healing=Yes) and (Alopecia=Yes) and (Gender=Female) = Positive or \n",
    "\n",
    "(Polyuria=Yes) and (Polydipsia=No) and (Itching=Yes) and (delayed healing=Yes) and (Alopecia=No) = Positive or\n",
    "\n",
    "(Polyuria=Yes) and (Polydipsia=No) and (Itching=Yes) and (delayed healing=No) = Positive or\n",
    "\n",
    "(Polyuria=Yes) and (Polydipsia=No) and (Itching=No) = Positive or \n",
    "\n",
    "(Polyuria=Yes) and (Polydipsia=Yes) = Positive or "
   ]
  },
  {
   "cell_type": "markdown",
   "id": "af70b355-300a-42bf-9e70-32a74756529b",
   "metadata": {},
   "source": [
    "## Analysis of the Results for Decision Tree Classification"
   ]
  },
  {
   "cell_type": "markdown",
   "id": "5f0c7dbf-4193-4b12-8651-59cfd0389347",
   "metadata": {},
   "source": [
    "Decision Tree is a Supervised learning technique that can be used for both classification and Regression problems, but mostly it is preferred for solving Classification problems.\n",
    "A decision tree is a tree where each node represents a feature, each branch represents a rule and each leaf represents an outcome. Each node is either used to make a decision or represent an outcome (leaf node).\n",
    "\n",
    "ID3 stands for Iterative Dichotomiser 3 and is named such because the algorithm iteratively (repeatedly) divides features into two or more groups at each step.\n",
    "ID3 uses a top-down greedy approach to build a decision tree. So, the top-down approach means that we start building the tree from the top and the greedy approach means that at each iteration we select the best feature at the present moment to create a node. Information gain is used for the best feature selection. Information gain calculates the reduction in the entropy and measures how well a given feature separates or classifies the target classes. The feature with the highest information gain is best feature."
   ]
  },
  {
   "attachments": {
    "Untitled%20Document-3-2.png": {
     "image/png": "[encoded data removed]"
    }
   },
   "cell_type": "markdown",
   "id": "e74ff589-b47e-4841-ac04-3af997da7338",
   "metadata": {},
   "source": [
    "![Untitled%20Document-3-2.png](attachment:Untitled%20Document-3-2.png)"
   ]
  },
  {
   "cell_type": "markdown",
   "id": "1843f6f0-efee-4bc1-baec-7cdf75ec0bc6",
   "metadata": {},
   "source": [
    "Accuracy, precision, recall and fscore values are observed for each model we create. This table is one of the performance evaluation metrics of a classification-based machine learning model. It displays our model’s precision, recall, F1 score and accuracy. It provides a better understanding of the overall performance of our trained model. \n"
   ]
  },
  {
   "cell_type": "markdown",
   "id": "d1194fc0-4f71-4387-8fa7-98e6d8ad34f4",
   "metadata": {},
   "source": [
    "Accuracy is an evaluation metric that allows you to measure the total number of predictions a model gets right. It is the ratio of the total number of correct predictions and the total number of predictions. In simple words, it tells us how many predictions are actually positive out of all the total positive predicted.\n",
    "As we can see in the table, the accuracy of the 5 models created varies between 0.92 - 0.97 and the average accuracy of our models is 0,94. We see that the highest accuracy value is 0.97 and this model is established with fold-3 data. That is, our model correctly predicts 97 out of a total of 100 samples. This means our decision tree classifier does a great job in determining that a patient is potentially diabetic."
   ]
  },
  {
   "cell_type": "markdown",
   "id": "4cba4282",
   "metadata": {},
   "source": [
    "Precision evaluates how precise a model is in predicting positive labels. In the simplest terms, it is the ratio between the true positives and all the positives. For our problem statement, that would be the measure of patients that we correctly identify having a diabetes out of all the patients actually having it. The precision of a measurement system is refers to how close the agreement is between repeated measurements (which are repeated under the same conditions). High precision relates to the low false positive rate. The precision value of the 5 models we created varies between 0.91 - 0.95 and the average precision of our models is 0.93. In our model built with fold-3 data, we have an precision of 0.95, which is good."
   ]
  },
  {
   "cell_type": "markdown",
   "id": "da31b212",
   "metadata": {},
   "source": [
    "The recall is the measure of our model correctly identifying True Positives. It is the ratio of correctly predicted positive observations to the all observations in actual class.Recall is a valid choice of evaluation metric when we want to capture as many positives as possible. Thus, for all the patients who actually have diabetes, recall tells us how many we correctly identified as having a diabetes. We see in the table, the recall of the 5 models created varies between 0.95 - 1.0 and the average recall value of our models is 0,97. We see that the highest recall value is 1.0 and this model is established with fold-3 data. This result shows that we correctly labeled 100% of patients with diabetes."
   ]
  },
  {
   "cell_type": "markdown",
   "id": "38b06a16",
   "metadata": {},
   "source": [
    "The F1 score is the weighted harmonic mean of precision and recall. Therefore, this score takes both false positives and false negatives into account. F1 score is usually more useful than accuracy, especially if you have an uneven class distribution. Accuracy works best if false positives and false negatives have similar cost. If the cost of false positives and false negatives are very different, it’s better to look at both precision and recall. The closer the value of the F1 score is to 1.0, the better the expected performance of the model is. As we can see in the table, the F1 score of the 5 models created varies between 0.94 - 0.97 and the average F1 score of our models is 0,95. In our model built with fold-3 data, we have the highest F1 score of 0.97, which is pretty good.\n"
   ]
  },
  {
   "cell_type": "markdown",
   "id": "05f953a0",
   "metadata": {},
   "source": [
    "The decision tree approach aims to determine a profile / pattern of the values that the target class will take by monitoring the values of the predictive classes in the data set. In the table above, we see that the model with the highest accuracy, precision, recall and f1 score values was established with the fold-3 dataset. It is not surprising that these 4 values, which allow us to analyze the performance of the model, give the highest result in the same model. Since the decision tree was fully grown in the algorithm, our model lost its generalizability. When we examine the model created with Fold-3, we see that overfitting has occurred.\n",
    "Overfitting can be summarized as the situation where the algorithm loses its flexibility to adapt to other data sets by memorizing the data set completely. As a result, our decision tree became unnecessarily complex. As in this example, we need to prune decision trees to solve overfit situations."
   ]
  },
  {
   "cell_type": "markdown",
   "id": "b1790846-58f5-4ab5-983f-50e4f81f8274",
   "metadata": {},
   "source": [
    "## Part 2: Pruning Decision Tree"
   ]
  },
  {
   "cell_type": "markdown",
   "id": "3723bb3b-87be-46b0-b5c5-52e952845130",
   "metadata": {},
   "source": [
    "As the number of splits in decision trees increase, their complexity rises. In general, simpler decision trees are preferred over super complex ones, since they are easier to understand and they are less likely to fall into overfitting. Overfitting refers to a model that learns the training data (the data it uses to learn) so well that it has problems to generalize to unseen data. It’s always better to avoid a decision tree model that learns and repeats specific details, and try to develop one that has the power and flexibility to have a decent performance on new data we provide to it.\n",
    "Pruning is a technique used to deal with overfitting, that reduces the size of decision trees by removing sections of the tree that provide little predictive or classification power."
   ]
  },
  {
   "cell_type": "code",
   "execution_count": 12,
   "id": "88c19ee2",
   "metadata": {},
   "outputs": [],
   "source": [
    "def train_validation_test_splitter(dataframe):\n",
    "    train, test = train_test_split(dataframe, test_size=0.2, shuffle=True)\n",
    "    train, validation = train_test_split(train, test_size=0.25)\n",
    "\n",
    "    return train, test, validation"
   ]
  },
  {
   "cell_type": "markdown",
   "id": "31ebb8bf",
   "metadata": {},
   "source": [
    "The train_validation_test_splitter method splits the dataset into train, test and validation.  Train dataset is the actual dataset that we use to train the model. The model sees and learns from this data. Validation dataset is the sample of data used to provide an unbiased evaluation of a model fit on the training dataset while tuning model hyperparameters. Test Dataset is the sample of data used to provide an unbiased evaluation of a final model fit on the training dataset."
   ]
  },
  {
   "cell_type": "code",
   "execution_count": 13,
   "id": "8ba0a3fc",
   "metadata": {},
   "outputs": [],
   "source": [
    "# checks if a node is a leaf\n",
    "def is_leaf(node):\n",
    "    if isinstance(node, dict):\n",
    "        return False\n",
    "    \n",
    "    return True"
   ]
  },
  {
   "cell_type": "code",
   "execution_count": 14,
   "id": "f333d7f4",
   "metadata": {},
   "outputs": [],
   "source": [
    "# checks if a node is a twig\n",
    "def is_twig(node):\n",
    "    for child in node.keys():\n",
    "        if is_leaf(node[child]) is False:\n",
    "            return False\n",
    "    return True"
   ]
  },
  {
   "cell_type": "code",
   "execution_count": 15,
   "id": "de3d7c3a",
   "metadata": {},
   "outputs": [],
   "source": [
    "# finds all twigs in the tree\n",
    "def find_twigs(tree, twigs):\n",
    "    root_node = next(iter(tree))\n",
    "\n",
    "    if is_twig(tree[root_node]):\n",
    "        twigs.append(tree[root_node])  # add info gain\n",
    "    else:\n",
    "        for value in tree[root_node].keys():  # checking the feature value in current tree node\n",
    "            if is_leaf(tree[root_node][value]):\n",
    "                continue\n",
    "            find_twigs(tree[root_node][value], twigs)  # goto next feature\n",
    "\n",
    "    return twigs"
   ]
  },
  {
   "cell_type": "markdown",
   "id": "ff8cfb11-3ddf-4307-8da9-1ff11168024d",
   "metadata": {},
   "source": [
    "This function is used in the pruning process' first step where we find all twigs in our decision tree"
   ]
  },
  {
   "cell_type": "code",
   "execution_count": 16,
   "id": "28772316",
   "metadata": {},
   "outputs": [],
   "source": [
    "# finds the twig with the least information gain\n",
    "def find_least_info_gain_twig(twigs):\n",
    "    min_info_gain = 1\n",
    "    node_num = 0\n",
    "\n",
    "    for twig in twigs:\n",
    "        counter = 0\n",
    "        for key, value in twig.items():\n",
    "            if counter == 0:\n",
    "                if value < min_info_gain:\n",
    "                    min_info_gain = value\n",
    "                    node_num = key\n",
    "            counter += 1\n",
    "\n",
    "    return node_num"
   ]
  },
  {
   "cell_type": "markdown",
   "id": "4d79eb6b-29e7-40be-83d3-accfc415c6f5",
   "metadata": {},
   "source": [
    "After we find twigs, we need to determine which twig should be relabed. According to the given rule, it is required to find the twig which has the least information gain. We compare information gain values of twigs inside this function and return the related twig."
   ]
  },
  {
   "cell_type": "code",
   "execution_count": 17,
   "id": "68695b17",
   "metadata": {},
   "outputs": [],
   "source": [
    "# deletes the children of the branch with the least information gain\n",
    "def delete_children(tree, node_num):\n",
    "    root_node = next(iter(tree))\n",
    "\n",
    "    for value in tree[root_node].keys():\n",
    "        if is_leaf(tree[root_node][value]):\n",
    "            continue\n",
    "        if node_num == get_node_num(tree[root_node][value]):\n",
    "            tree[root_node][value] = get_node_value(tree[root_node][value])\n",
    "            return tree\n",
    "        else:\n",
    "            delete_children(tree[root_node][value], node_num)\n",
    "\n",
    "    return tree"
   ]
  },
  {
   "cell_type": "markdown",
   "id": "dd43b727-9fab-4915-bf3e-7837ee3c9136",
   "metadata": {},
   "source": [
    "After we find twig with the least information gain. We need to remove all childs of that twig. The function above handles this part of the algorithm."
   ]
  },
  {
   "cell_type": "code",
   "execution_count": 18,
   "id": "3fc93935",
   "metadata": {},
   "outputs": [],
   "source": [
    "def get_node_num(node):\n",
    "    root_node = next(iter(node))\n",
    "\n",
    "    counter = 0\n",
    "    for key, value in node[root_node].items():\n",
    "        if counter == 0:\n",
    "            return key"
   ]
  },
  {
   "cell_type": "markdown",
   "id": "405c8e2d-842a-449b-b2d0-d36b42be26c5",
   "metadata": {},
   "source": [
    "In our tree implementation, each node has a unique node number which allows us to distinguish between them when we want to compare information gains or when we traverse the tree and try to find a specific node."
   ]
  },
  {
   "cell_type": "code",
   "execution_count": 19,
   "id": "8ae6e571",
   "metadata": {},
   "outputs": [],
   "source": [
    "def get_node_value(node):\n",
    "    root_node = next(iter(node))\n",
    "\n",
    "    counter = 0\n",
    "    for key, value in node[root_node].items():\n",
    "        if counter == 1:\n",
    "            return value\n",
    "        counter += 1"
   ]
  },
  {
   "cell_type": "code",
   "execution_count": 21,
   "id": "380dfd0a",
   "metadata": {},
   "outputs": [],
   "source": [
    "def prune(data):\n",
    "    global data_train_2\n",
    "    print(\"-------------------- PART 2 --------------------\")\n",
    "    train, test, validation = train_validation_test_splitter(data)\n",
    "    data_train_2 = train\n",
    "    tree = build_tree(train)\n",
    "    last_accuracy = accuracy_calculate(data, tree, test.reset_index(drop=True), \"Class\")\n",
    "    print()\n",
    "    print(\"Last accuracy: \" +str(last_accuracy))\n",
    "    pruned_tree, new_accuracy = repeat_prune(data, tree, validation, last_accuracy)\n",
    "    print(\"New accuracy: \"+ str(new_accuracy))\n",
    "    print(\"-------------------------------------------------------\")\n",
    "    "
   ]
  },
  {
   "cell_type": "code",
   "execution_count": 22,
   "id": "e305ca2a",
   "metadata": {},
   "outputs": [],
   "source": [
    "def repeat_prune(data, tree, validation, last_accuracy):\n",
    "    twigs = find_twigs(tree, [])\n",
    "    node_num = find_least_info_gain_twig(twigs)\n",
    "    updated_tree = delete_children(tree, node_num)\n",
    "    current_accuracy = accuracy_calculate(data, updated_tree, validation.reset_index(drop=True), \"Class\")\n",
    "    print(\"Current accuracy: \"+ str(current_accuracy))\n",
    "    if current_accuracy <= last_accuracy:\n",
    "        return tree, last_accuracy\n",
    "    else:\n",
    "        return repeat_prune(data, updated_tree, validation, current_accuracy)"
   ]
  },
  {
   "cell_type": "markdown",
   "id": "22ebe24f",
   "metadata": {},
   "source": [
    "The Prune method reduces the size of the Decision Tree by removing sections of the tree that are non-critical and redundant to classify instances. This way, we reduce the complexity of tree, and thus increasing its predictive power by reducing overfitting.\n",
    "\n",
    "In this assignment, pruning starts at the leaves. The twigs are the nodes whose children are all leaves. The leaf nodes of the twig with the smallest information gain are removed from all twigs in the tree. This change is retained as long as it does not reduce accuracy. The recursive algorithm invokes itself with the new accuracy value only if the current accuracy is greater than the last accuracy, which means that pruning the current node makes a positince impact by increasing the accuracy."
   ]
  },
  {
   "cell_type": "code",
   "execution_count": 20,
   "id": "0cf3af0f",
   "metadata": {},
   "outputs": [],
   "source": [
    "def part2():\n",
    "    data = pd.read_csv('diabetes_data_upload.csv')\n",
    "    # discretization for continuous variable Age, split Age values to 5 different ranges -> make it discrete\n",
    "    data['age_discrete'] = pd.cut(data['Age'], 5, labels=['Low', 'Below_average', 'Average', 'Above_Average', 'High'])\n",
    "    # write discretized age values to Age column\n",
    "    data['Age'] = data['age_discrete']\n",
    "    # drop unnecessary column\n",
    "    data = data.drop(columns=\"age_discrete\")\n",
    "    prune(data)"
   ]
  },
  {
   "cell_type": "code",
   "execution_count": 36,
   "id": "36109b1b",
   "metadata": {},
   "outputs": [
    {
     "name": "stdout",
     "output_type": "stream",
     "text": [
      "-------------------- PART 2 --------------------\n",
      "\n",
      "Last accuracy: 0.9230769230769231\n",
      "Current accuracy: 0.9519230769230769\n",
      "Current accuracy: 0.9519230769230769\n",
      "New accuracy: 0.9519230769230769\n",
      "-------------------------------------------------------\n"
     ]
    }
   ],
   "source": [
    "part2()"
   ]
  },
  {
   "cell_type": "markdown",
   "id": "802975c6-dbb9-4020-9607-9915055a2d92",
   "metadata": {},
   "source": [
    "Any training data used to train decision trees runs the risk of overfitting the data. This means that each leaf will eventually represent a highly specific set of attribute combinations seen in the training data, and the tree will be unable to classify attribute value combinations that are not seen in the training data. We must prune the decision tree to avoid this from happening. Pruning should reduce the size of a learning tree without reducing predictive accuracy. Pruning a decision tree means to remove a subtree that is redundant and not a useful split and replace it with a leaf node. It reduces the complexity of the final classifier, and hence improves predictive accuracy by the reduction of overfitting. In the pruning process, it can be seen from the result above that, the accuracy value rises up from 93.2 to 95.19 when we apply the pruning algorithm appropriately."
   ]
  }
 ],
 "metadata": {
  "kernelspec": {
   "display_name": "Python 3",
   "language": "python",
   "name": "python3"
  },
  "language_info": {
   "codemirror_mode": {
    "name": "ipython",
    "version": 3
   },
   "file_extension": ".py",
   "mimetype": "text/x-python",
   "name": "python",
   "nbconvert_exporter": "python",
   "pygments_lexer": "ipython3",
   "version": "3.8.8"
  }
 },
 "nbformat": 4,
 "nbformat_minor": 5
}
